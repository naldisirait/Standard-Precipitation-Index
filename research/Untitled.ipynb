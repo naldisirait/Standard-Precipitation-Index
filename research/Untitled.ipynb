{
 "cells": [
  {
   "cell_type": "code",
   "execution_count": 2,
   "id": "41d598ef-0b10-416d-8749-bc602062267d",
   "metadata": {},
   "outputs": [],
   "source": [
    "def save_pickle(data,output_name):\n",
    "    with open(output_name, 'wb') as file:\n",
    "        pickle.dump(data, file)\n",
    "\n",
    "def load_pickle(filename):\n",
    "    with open(filename, 'rb') as file:\n",
    "        # Use pickle.load() to deserialize and load the data\n",
    "        loaded_data = pickle.load(file)\n",
    "    return loaded_data"
   ]
  },
  {
   "cell_type": "code",
   "execution_count": 15,
   "id": "d44aad85-e1f2-4e2f-bedd-ca6bb66f7b64",
   "metadata": {},
   "outputs": [],
   "source": [
    "annual_max_st1 = [60,70,90,20,40]\n",
    "annual_max_st2 = [50,30,100,20,40]\n",
    "stasiun = [\"a\",\"b\",\"c\"]"
   ]
  },
  {
   "cell_type": "code",
   "execution_count": 16,
   "id": "aa5357ba-ae44-4a58-9fce-640935fcc49e",
   "metadata": {},
   "outputs": [],
   "source": [
    "var1 = {}\n",
    "for s in stasiun:\n",
    "    var1[s] = [60,70,90,20,40]#annual maxima"
   ]
  },
  {
   "cell_type": "code",
   "execution_count": 17,
   "id": "1792892f-3c92-464e-a53d-f3a4aec35446",
   "metadata": {},
   "outputs": [
    {
     "data": {
      "text/plain": [
       "{'a': [60, 70, 90, 20, 40],\n",
       " 'b': [60, 70, 90, 20, 40],\n",
       " 'c': [60, 70, 90, 20, 40]}"
      ]
     },
     "execution_count": 17,
     "metadata": {},
     "output_type": "execute_result"
    }
   ],
   "source": [
    "var1"
   ]
  },
  {
   "cell_type": "code",
   "execution_count": 18,
   "id": "4176be50-5519-43a3-b533-ebc4d81da05f",
   "metadata": {},
   "outputs": [],
   "source": [
    "import pickle\n",
    "save_pickle(var1,\"output2.pickle\")"
   ]
  },
  {
   "cell_type": "code",
   "execution_count": 19,
   "id": "d5469fd0-f144-4554-bf0b-7e01ea329c67",
   "metadata": {},
   "outputs": [],
   "source": [
    "loaded_var1 = load_pickle(\"output2.pickle\")"
   ]
  },
  {
   "cell_type": "code",
   "execution_count": 20,
   "id": "604f9f45-2d21-40f4-a7f5-4edcaadf0614",
   "metadata": {},
   "outputs": [
    {
     "data": {
      "text/plain": [
       "{'a': [60, 70, 90, 20, 40],\n",
       " 'b': [60, 70, 90, 20, 40],\n",
       " 'c': [60, 70, 90, 20, 40]}"
      ]
     },
     "execution_count": 20,
     "metadata": {},
     "output_type": "execute_result"
    }
   ],
   "source": [
    "loaded_var1"
   ]
  },
  {
   "cell_type": "code",
   "execution_count": null,
   "id": "85028ff0-a21b-44e2-8d5c-fce6297c9f5a",
   "metadata": {},
   "outputs": [],
   "source": []
  }
 ],
 "metadata": {
  "kernelspec": {
   "display_name": "Python 3 (ipykernel)",
   "language": "python",
   "name": "python3"
  },
  "language_info": {
   "codemirror_mode": {
    "name": "ipython",
    "version": 3
   },
   "file_extension": ".py",
   "mimetype": "text/x-python",
   "name": "python",
   "nbconvert_exporter": "python",
   "pygments_lexer": "ipython3",
   "version": "3.12.1"
  }
 },
 "nbformat": 4,
 "nbformat_minor": 5
}
